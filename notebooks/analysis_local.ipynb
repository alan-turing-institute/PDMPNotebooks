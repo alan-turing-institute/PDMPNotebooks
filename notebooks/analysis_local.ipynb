{
 "cells": [
  {
   "cell_type": "code",
   "execution_count": null,
   "metadata": {},
   "outputs": [],
   "source": [
    "using PyPlot\n",
    "using JLD\n",
    "\n",
    "using PDMP\n",
    "using Klara"
   ]
  },
  {
   "cell_type": "markdown",
   "metadata": {},
   "source": [
    "# LOCAL BPS\n",
    "___"
   ]
  },
  {
   "cell_type": "code",
   "execution_count": 2,
   "metadata": {},
   "outputs": [],
   "source": [
    "function showHist(evl::Vector{PDMP.EventList}, vi::Int64, Ns::Int64, \n",
    "                    mu=0.0, sigma=1.0, lb=-10., ub=10.)\n",
    "    vi = 1\n",
    "    Ns = 5000\n",
    "    xs = PDMP.samplelocalpath(evl[vi], linspace(0,evl[vi].ts[end],Ns))\n",
    "\n",
    "    PyPlot.plt[:hist](xs,Int(ceil(0.5*sqrt(Ns))),normed=true)\n",
    "    \n",
    "    xx = linspace(-10,10,500)\n",
    "    yy = exp(-(xx-mu).^2/(2. * sigma^2))/sqrt(2pi * sigma^2)\n",
    "    plot(xx,yy)\n",
    "    nothing\n",
    "end\n",
    ";"
   ]
  },
  {
   "cell_type": "markdown",
   "metadata": {},
   "source": [
    "## LBPS1 - Chain of (indep) Gaussians\n",
    "___\n",
    "\n",
    "`ex_lbps_gausschain1.jl`\n",
    "\n",
    "Three factors, each with a gaussian likelihood.\n",
    "\n"
   ]
  },
  {
   "cell_type": "code",
   "execution_count": 3,
   "metadata": {},
   "outputs": [
    {
     "data": {
      "text/plain": [
       "Dict{String,Any} with 5 entries:\n",
       "  \"ev_secondbranch\" => 150\n",
       "  \"ev_firstbranch\"  => 9850\n",
       "  \"clocktime\"       => 0.807556\n",
       "  \"nevents\"         => 10000\n",
       "  \"globalclock\"     => 7.57146e7"
      ]
     },
     "execution_count": 3,
     "metadata": {},
     "output_type": "execute_result"
    }
   ],
   "source": [
    "d = load(\"res/dex_lbps_gausschain1.jld\")\n",
    "\n",
    "evl     = d[\"evlist\"]\n",
    "details = d[\"details\"]\n"
   ]
  },
  {
   "cell_type": "markdown",
   "metadata": {},
   "source": [
    "### Histogram \n",
    "Sample one of the factor and show what it looks like"
   ]
  },
  {
   "cell_type": "code",
   "execution_count": 4,
   "metadata": {},
   "outputs": [
    {
     "data": {
      "image/png": "[encoded data removed]",
      "text/plain": [
       "PyPlot.Figure(PyObject <matplotlib.figure.Figure object at 0x329fc8b50>)"
      ]
     },
     "metadata": {},
     "output_type": "display_data"
    }
   ],
   "source": [
    "i = 2 \n",
    "showHist(evl, i, 10000)"
   ]
  },
  {
   "cell_type": "markdown",
   "metadata": {},
   "source": [
    "### ESS"
   ]
  },
  {
   "cell_type": "code",
   "execution_count": 5,
   "metadata": {},
   "outputs": [
    {
     "data": {
      "text/plain": [
       "3-element Array{Float64,1}:\n",
       " 3054.49\n",
       " 4582.74\n",
       " 4501.36"
      ]
     },
     "execution_count": 5,
     "metadata": {},
     "output_type": "execute_result"
    }
   ],
   "source": [
    "ess = [Klara.ess(PDMP.samplelocalpath(evl[vi], linspace(0,evl[vi].ts[end], 10000))) for vi=1:3]"
   ]
  },
  {
   "cell_type": "markdown",
   "metadata": {},
   "source": [
    "Can also compute per CPU sec"
   ]
  },
  {
   "cell_type": "code",
   "execution_count": 6,
   "metadata": {},
   "outputs": [
    {
     "data": {
      "text/plain": [
       "3-element Array{Float64,1}:\n",
       " 3782.39\n",
       " 5674.83\n",
       " 5574.05"
      ]
     },
     "execution_count": 6,
     "metadata": {},
     "output_type": "execute_result"
    }
   ],
   "source": [
    "ess/details[\"clocktime\"]"
   ]
  }
 ],
 "metadata": {
  "kernelspec": {
   "display_name": "Julia 0.5.0",
   "language": "julia",
   "name": "julia-0.5"
  },
  "language_info": {
   "file_extension": ".jl",
   "mimetype": "application/julia",
   "name": "julia",
   "version": "0.5.0"
  }
 },
 "nbformat": 4,
 "nbformat_minor": 2
}
